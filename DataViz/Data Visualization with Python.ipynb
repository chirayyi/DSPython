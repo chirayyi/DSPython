{
 "cells": [
  {
   "cell_type": "markdown",
   "metadata": {},
   "source": [
    "# Data Visualization with Python"
   ]
  },
  {
   "cell_type": "markdown",
   "metadata": {},
   "source": [
    "\n",
    "![title](PythonVisLandscape_copy.jpg)\n"
   ]
  },
  {
   "cell_type": "markdown",
   "metadata": {},
   "source": [
    "# seaborn"
   ]
  },
  {
   "cell_type": "code",
   "execution_count": null,
   "metadata": {},
   "outputs": [],
   "source": [
    "import seaborn as sns\n",
    "import matplotlib.pyplot as plt\n",
    "import matplotlib as mpl\n",
    "\n",
    "import pandas as pd\n",
    "\n",
    "import warnings\n",
    "warnings.filterwarnings('ignore')"
   ]
  },
  {
   "cell_type": "code",
   "execution_count": null,
   "metadata": {},
   "outputs": [],
   "source": [
    "data = sns.load_dataset('iris')\n",
    "data.head(10)"
   ]
  },
  {
   "cell_type": "code",
   "execution_count": null,
   "metadata": {},
   "outputs": [],
   "source": [
    "print(data['species'].unique())"
   ]
  },
  {
   "cell_type": "code",
   "execution_count": null,
   "metadata": {},
   "outputs": [],
   "source": [
    "sns.distplot(data['sepal_length'])\n",
    "plt.show()"
   ]
  },
  {
   "cell_type": "code",
   "execution_count": null,
   "metadata": {},
   "outputs": [],
   "source": [
    "sns.distplot(data['sepal_length'], hist=False)\n",
    "plt.show()\n",
    "\n",
    "sns.distplot(data['sepal_length'], kde=False)\n",
    "plt.show()"
   ]
  },
  {
   "cell_type": "code",
   "execution_count": null,
   "metadata": {},
   "outputs": [],
   "source": [
    "setosa = data[data['species'] == 'setosa']['sepal_length']\n",
    "virginica = data[data['species'] == 'virginica']['sepal_length']\n",
    "\n",
    "sns.distplot(setosa, hist=False, label='setosa')\n",
    "sns.distplot(virginica, hist=False, label='virginica')\n",
    "plt.legend()\n",
    "plt.show()"
   ]
  },
  {
   "cell_type": "code",
   "execution_count": null,
   "metadata": {},
   "outputs": [],
   "source": [
    "sns.distplot(setosa, kde=False, label='setosa')\n",
    "sns.distplot(virginica, kde=False, label='virginica')\n",
    "plt.legend()\n",
    "plt.show()"
   ]
  },
  {
   "cell_type": "code",
   "execution_count": null,
   "metadata": {},
   "outputs": [],
   "source": [
    "mpl.style.use(\"default\")\n",
    "sns.pairplot(data=data)\n",
    "plt.show()"
   ]
  },
  {
   "cell_type": "code",
   "execution_count": null,
   "metadata": {},
   "outputs": [],
   "source": [
    "mpl.style.use(\"default\")\n",
    "sns.pairplot(data=data, hue='species')\n",
    "plt.show()"
   ]
  },
  {
   "cell_type": "code",
   "execution_count": null,
   "metadata": {},
   "outputs": [],
   "source": [
    "mpl.style.use(\"default\")\n",
    "g = sns.PairGrid(data=data, hue='species')\n",
    "g.map_diag(sns.kdeplot, legend=False)\n",
    "g.map_upper(plt.scatter)\n",
    "g.map_lower(sns.kdeplot)\n",
    "g.add_legend()\n",
    "plt.show()"
   ]
  },
  {
   "cell_type": "code",
   "execution_count": null,
   "metadata": {},
   "outputs": [],
   "source": [
    "data = sns.load_dataset('titanic')\n",
    "data.head(10)"
   ]
  },
  {
   "cell_type": "code",
   "execution_count": null,
   "metadata": {},
   "outputs": [],
   "source": [
    "sns.set_style('white')\n",
    "sns.countplot(data=data, x='deck')\n",
    "#sns.countplot(data=data, x='deck', palette='Blues')\n",
    "plt.show()"
   ]
  },
  {
   "cell_type": "code",
   "execution_count": null,
   "metadata": {},
   "outputs": [],
   "source": [
    "sns.set_style('white')\n",
    "sns.countplot(data=data, x='deck', order=data['deck'].value_counts().iloc[:3].index)\n",
    "plt.show()"
   ]
  },
  {
   "cell_type": "markdown",
   "metadata": {},
   "source": [
    "# missingno"
   ]
  },
  {
   "cell_type": "code",
   "execution_count": null,
   "metadata": {},
   "outputs": [],
   "source": [
    "import missingno as msno"
   ]
  },
  {
   "cell_type": "code",
   "execution_count": null,
   "metadata": {},
   "outputs": [],
   "source": [
    "collisions = pd.read_csv('collisions.csv')\n",
    "collisions.head(10)"
   ]
  },
  {
   "cell_type": "code",
   "execution_count": null,
   "metadata": {},
   "outputs": [],
   "source": [
    "msno.matrix(collisions)\n",
    "plt.show()"
   ]
  },
  {
   "cell_type": "code",
   "execution_count": null,
   "metadata": {},
   "outputs": [],
   "source": [
    "msno.bar(collisions)\n",
    "plt.show()"
   ]
  },
  {
   "cell_type": "code",
   "execution_count": null,
   "metadata": {},
   "outputs": [],
   "source": [
    "msno.heatmap(collisions)\n",
    "plt.show()"
   ]
  },
  {
   "cell_type": "code",
   "execution_count": null,
   "metadata": {},
   "outputs": [],
   "source": [
    "msno.dendrogram(collisions)\n",
    "plt.show()"
   ]
  },
  {
   "cell_type": "markdown",
   "metadata": {},
   "source": [
    "# matplotlib"
   ]
  },
  {
   "cell_type": "code",
   "execution_count": null,
   "metadata": {},
   "outputs": [],
   "source": [
    "plt.plot([1,2,3,4,5], [5,6,7,8,9], linestyle='--')\n",
    "#plt.plot([0,1,2,3,4,5], [1,2,3,4,5,6], linestyle='-.')\n",
    "\n",
    "#plt.xticks([0,1,2,3,4,5])\n",
    "#plt.margins(x=0, y=0)\n",
    "#plt.fill_between(x=[2,3,4,5], y1=[2,3,4,5], y2=[6,7,8,9], color='green')\n",
    "#plt.title('test title')\n",
    "#plt.xlabel('x-axis')\n",
    "#plt.ylabel('y-axis')\n",
    "#plt.savefig('test.png')\n",
    "plt.show()"
   ]
  },
  {
   "cell_type": "code",
   "execution_count": null,
   "metadata": {},
   "outputs": [],
   "source": [
    "import matplotlib.dates as md\n",
    "\n",
    "time_series = pd.read_csv('time_series.csv', parse_dates=['timestamp'])\n",
    "\n",
    "\n",
    "fig, ax1 = plt.subplots(figsize=(20,10))\n",
    "\n",
    "ax1.xaxis.set_major_formatter(md.DateFormatter('%Y-%m-%d %H:%M:%S'))\n",
    "ax1.xaxis.set_major_locator(md.DayLocator(interval=1))\n",
    "\n",
    "ax1.step(time_series['timestamp'], time_series['values'])\n",
    "#ax1.plot(time_series['timestamp'], time_series['values'])\n",
    "\n",
    "#plt.gcf().autofmt_xdate()\n",
    "plt.show()"
   ]
  },
  {
   "cell_type": "markdown",
   "metadata": {},
   "source": [
    "# References"
   ]
  },
  {
   "cell_type": "markdown",
   "metadata": {},
   "source": [
    "- Collection of charts made with python\n",
    "https://python-graph-gallery.com/\n",
    "\n",
    "- Seaborn documentation\n",
    "https://seaborn.pydata.org/\n",
    "\n",
    "- Seaborn figure aesthetics\n",
    "https://seaborn.pydata.org/tutorial/aesthetics.html\n",
    "    \n",
    "- Missingno repository and documentation\n",
    "https://github.com/ResidentMario/missingno\n",
    "\n",
    "- Matplotlib documentation\n",
    "https://matplotlib.org/\n",
    "\n",
    "- Overview of matplotlib colormaps\n",
    "https://matplotlib.org/users/colormaps.html\n",
    "\n",
    "- Matplotlib.dates documentation\n",
    "https://matplotlib.org/api/dates_api.html\n",
    "\n",
    "- Directives for datetime formatting (bottom of document)\n",
    "https://docs.python.org/3/library/datetime.html"
   ]
  },
  {
   "cell_type": "code",
   "execution_count": null,
   "metadata": {},
   "outputs": [],
   "source": []
  }
 ],
 "metadata": {
  "kernelspec": {
   "display_name": "Python 3",
   "language": "python",
   "name": "python3"
  },
  "language_info": {
   "codemirror_mode": {
    "name": "ipython",
    "version": 3
   },
   "file_extension": ".py",
   "mimetype": "text/x-python",
   "name": "python",
   "nbconvert_exporter": "python",
   "pygments_lexer": "ipython3",
   "version": "3.6.8"
  }
 },
 "nbformat": 4,
 "nbformat_minor": 2
}
